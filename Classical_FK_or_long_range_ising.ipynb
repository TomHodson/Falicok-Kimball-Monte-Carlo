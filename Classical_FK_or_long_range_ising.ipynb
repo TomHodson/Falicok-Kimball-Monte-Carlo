{
 "cells": [
  {
   "cell_type": "code",
   "execution_count": 1,
   "metadata": {},
   "outputs": [],
   "source": [
    "import numpy as np\n",
    "from matplotlib import pyplot as plt\n",
    "import timeit\n",
    "\n",
    "%matplotlib inline\n",
    "\n",
    "import h5py\n",
    "from pathlib import Path\n",
    "from jobmanager import *"
   ]
  },
  {
   "cell_type": "code",
   "execution_count": 2,
   "metadata": {},
   "outputs": [
    {
     "name": "stdout",
     "output_type": "stream",
     "text": [
      "['energies', 'magnetisations', 'numbers']\n",
      "['alpha' 'N_system' 'beta']\n",
      "CPU times: user 2.79 ms, sys: 3.75 ms, total: 6.54 ms\n",
      "Wall time: 39.4 ms\n"
     ]
    }
   ],
   "source": [
    "%%time\n",
    "working_dir = Path('./really_long_classical_run')\n",
    "result_filename = working_dir / 'results.hdf5'\n",
    "\n",
    "\n",
    "\n",
    "with h5py.File(result_filename, 'r') as data:\n",
    "    print(list(data.keys()))\n",
    "    print(data.attrs['loop_over'])\n",
    "\n",
    "    N_systems = data.attrs['N_system']\n",
    "    betas = data.attrs['beta']\n",
    "    alphas = data.attrs['alpha']\n",
    "\n",
    "    skip = 1000\n",
    "    #e = data['energies'][..., skip:] / N_system\n",
    "    #m = data['magnetisations'][..., skip:] /  N_system\n",
    "    #n = data['numbers'][..., skip:] /  N_system\n",
    "\n",
    "    #m_sqauared_mean = (m**2).mean(axis=-1)\n",
    "    #m_std = m.std(axis=-1)\n",
    "\n",
    "    #binder = 1 - (m**4).mean(axis=-1) / (m**2).mean(axis=-1)**2\n",
    "    #e_mean = e.mean(axis=-1)\n",
    "    #s_std = e.std(axis=-1)\n",
    "    #n_mean = n.mean(axis=-1)\n",
    "    #n_std = n.std(axis=-1)"
   ]
  }
 ],
 "metadata": {
  "kernelspec": {
   "display_name": "Python3 (intel)",
   "language": "python",
   "name": "idp"
  },
  "language_info": {
   "codemirror_mode": {
    "name": "ipython",
    "version": 3
   },
   "file_extension": ".py",
   "mimetype": "text/x-python",
   "name": "python",
   "nbconvert_exporter": "python",
   "pygments_lexer": "ipython3",
   "version": "3.6.5"
  }
 },
 "nbformat": 4,
 "nbformat_minor": 2
}
